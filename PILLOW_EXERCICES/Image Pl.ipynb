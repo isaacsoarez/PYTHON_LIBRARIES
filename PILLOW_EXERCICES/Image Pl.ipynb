{
 "cells": [
  {
   "cell_type": "markdown",
   "metadata": {},
   "source": [
    "MANIPULAÇÃO DE IMAGENS COM PILLOW EM PYTHON\n"
   ]
  },
  {
   "cell_type": "markdown",
   "metadata": {},
   "source": [
    "Pillow é uma biblioteca Python de processamento de imagens que oferece uma ampla gama de funcionalidades para manipular e trabalhar com imagens. "
   ]
  },
  {
   "cell_type": "markdown",
   "metadata": {},
   "source": [
    "Get Image Format (Obter formato da imagem):\n",
    "\n",
    "Esta função é usada para obter o formato do arquivo de imagem, como JPG, PNG, etc. Ela pode ser útil quando você precisa saber o tipo de arquivo de imagem com o qual está trabalhando.\n"
   ]
  },
  {
   "cell_type": "code",
   "execution_count": 1,
   "metadata": {},
   "outputs": [
    {
     "name": "stdout",
     "output_type": "stream",
     "text": [
      "JPEG\n"
     ]
    }
   ],
   "source": [
    "\n",
    "from PIL import Image\n",
    "\n",
    "# Abre a imagem 'IMG1.jpg' e a atribui à variável 'im'\n",
    "im = Image.open('IMG1.jpg')\n",
    "\n",
    "# Imprime o formato da imagem, que pode ser JPEG, PNG, etc.\n",
    "print(im.format)\n",
    "\n",
    "\n"
   ]
  },
  {
   "cell_type": "markdown",
   "metadata": {},
   "source": [
    "Get Image Filename:\n",
    "\n",
    "Descrição: Retorna o nome do arquivo da imagem.\n",
    "Exemplo Prático:\n"
   ]
  },
  {
   "cell_type": "code",
   "execution_count": 2,
   "metadata": {},
   "outputs": [
    {
     "name": "stdout",
     "output_type": "stream",
     "text": [
      "IMG1.jpg\n"
     ]
    }
   ],
   "source": [
    "\n",
    "from PIL import Image\n",
    "\n",
    "# Abre a imagem 'IMG1.jpg' e a atribui à variável 'img'\n",
    "img = Image.open('IMG1.jpg')\n",
    "\n",
    "# Imprime o nome do arquivo da imagem\n",
    "print(img.filename)\n",
    "\n"
   ]
  },
  {
   "cell_type": "markdown",
   "metadata": {},
   "source": [
    " Get Image Size (Obter tamanho da imagem):\n",
    "\n",
    "Essa função retorna as dimensões da imagem, ou seja, largura e altura.\n",
    "Exemplo:\n"
   ]
  },
  {
   "cell_type": "code",
   "execution_count": 3,
   "metadata": {},
   "outputs": [
    {
     "name": "stdout",
     "output_type": "stream",
     "text": [
      "Largura: 480 Altura: 270\n"
     ]
    }
   ],
   "source": [
    "\n",
    "from PIL import Image\n",
    "\n",
    "# Abre a imagem 'IMG1.jpg' e a atribui à variável 'img'\n",
    "img = Image.open(\"IMG1.jpg\")\n",
    "\n",
    "# Obtém as dimensões da imagem\n",
    "width, height = img.size\n",
    "\n",
    "# Imprime as dimensões da imagem\n",
    "print(\"Largura:\", width, \"Altura:\", height)\n",
    "\n"
   ]
  },
  {
   "cell_type": "markdown",
   "metadata": {},
   "source": [
    " Apply Filter on an Image (Aplicar filtro em uma imagem):\n",
    "\n",
    "Os filtros em Pillow são usados para modificar ou realçar as características da imagem. Existem vários tipos de filtros disponíveis, como filtro de nitidez, desfoque, suavização, entre outros.\n",
    "\n",
    "Exemplo (Aplicando um filtro de nitidez):\n"
   ]
  },
  {
   "cell_type": "code",
   "execution_count": 4,
   "metadata": {},
   "outputs": [],
   "source": [
    "# Importa a classe ImageFilter do módulo PIL (Pillow)\n",
    "from PIL import ImageFilter\n",
    "\n",
    "# Abre a imagem 'IMG1.jpg' e a atribui à variável 'img'\n",
    "img = Image.open(\"IMG1.jpg\")\n",
    "\n",
    "# Aplica o filtro de nitidez à imagem e atribui a imagem filtrada à variável 'img_sharpened'\n",
    "img_sharpened = img.filter(ImageFilter.SHARPEN)\n",
    "\n",
    "# Exibe a imagem filtrada\n",
    "img_sharpened.show()\n"
   ]
  },
  {
   "cell_type": "markdown",
   "metadata": {},
   "source": [
    ".............."
   ]
  },
  {
   "cell_type": "markdown",
   "metadata": {},
   "source": [
    " Apply Image Brightness:\n",
    "\n",
    "Descrição: Altera o brilho da imagem.\n",
    "Exemplo Prático:\n"
   ]
  },
  {
   "cell_type": "code",
   "execution_count": 5,
   "metadata": {},
   "outputs": [],
   "source": [
    "\n",
    "from PIL import Image, ImageEnhance\n",
    "\n",
    "# Abre a imagem 'IMG1.jpg' e a atribui à variável 'im'\n",
    "im = Image.open('IMG1.jpg')\n",
    "\n",
    "# Cria um objeto ImageEnhance.Brightness com a imagem 'im' e o atribui à variável 'brilho'\n",
    "brilho = ImageEnhance.Brightness(im)\n",
    "\n",
    "# Aumenta o brilho da imagem em 50% usando o método .enhance() do objeto 'enhancer' e reatribui à variável 'im'\n",
    "im = brilho.enhance(0.5)  # Aumenta o brilho em 50%\n",
    "\n",
    "# Salva a imagem resultante com brilho aumentado como 'bright_image.jpg'\n",
    "im.save('bright_image.jpg')\n",
    "\n",
    "\n"
   ]
  },
  {
   "cell_type": "markdown",
   "metadata": {},
   "source": [
    "Apply Image Sharpness (Aplicar nitidez na imagem):\n",
    "\n",
    "Este método aumenta ou diminui a nitidez da imagem.\n",
    "Exemplo:\n"
   ]
  },
  {
   "cell_type": "code",
   "execution_count": null,
   "metadata": {},
   "outputs": [],
   "source": [
    "\n",
    "from PIL import ImageEnhance\n",
    "\n",
    "# Abre a imagem 'IMG1.jpg' e a atribui à variável 'img'\n",
    "img = Image.open(\"IMG1.jpg\")\n",
    "\n",
    "# Cria um objeto ImageEnhance.Sharpness com a imagem 'img' e o atribui à variável 'enhancer'\n",
    "enhancer = ImageEnhance.Sharpness(img)\n",
    "\n",
    "# Aumenta a nitidez da imagem em 100% usando o método .enhance() do objeto 'enhancer' e atribui à variável 'img_sharpened'\n",
    "img_sharpened = enhancer.enhance(2.0)  # Aumenta a nitidez em 100%\n",
    "\n",
    "# Exibe a imagem com nitidez aumentada\n",
    "img_sharpened.show()\n",
    "\n",
    "\n"
   ]
  },
  {
   "cell_type": "markdown",
   "metadata": {},
   "source": [
    " Apply Image Contrast:\n",
    "\n",
    "Descrição: Modifica o contraste da imagem.\n",
    "Exemplo Prático:\n",
    "\n"
   ]
  },
  {
   "cell_type": "code",
   "execution_count": null,
   "metadata": {},
   "outputs": [],
   "source": [
    "\n",
    "from PIL import Image, ImageEnhance\n",
    "\n",
    "# Abre a imagem 'IMG1.jpg' e a atribui à variável 'im'\n",
    "im = Image.open('IMG1.jpg')\n",
    "\n",
    "# Cria um objeto ImageEnhance.Contrast com a imagem 'im' e o atribui à variável 'enhancer'\n",
    "enhancer = ImageEnhance.Contrast(im)\n",
    "\n",
    "# Aumenta o contraste da imagem em 50% usando o método .enhance() do objeto 'enhancer' e reatribui à variável 'im'\n",
    "im = enhancer.enhance(1.5)  # Aumenta o contraste em 50%\n",
    "\n",
    "# Salva a imagem resultante com contraste aumentado como 'contrasted_image.jpg'\n",
    "im.save('contrasted_image.jpg')\n",
    "\n"
   ]
  },
  {
   "cell_type": "markdown",
   "metadata": {},
   "source": [
    "O requests permite enviar solicitações HTTP usando Python.\n",
    "\n",
    "\n",
    "instalar o PIL no Python, é necessário verificar se o Python está instalado corretamente, instalar as bibliotecas externas necessárias e executar o comando de instalação do PIL."
   ]
  }
 ],
 "metadata": {
  "kernelspec": {
   "display_name": "Python 3",
   "language": "python",
   "name": "python3"
  },
  "language_info": {
   "codemirror_mode": {
    "name": "ipython",
    "version": 3
   },
   "file_extension": ".py",
   "mimetype": "text/x-python",
   "name": "python",
   "nbconvert_exporter": "python",
   "pygments_lexer": "ipython3",
   "version": "3.10.6"
  }
 },
 "nbformat": 4,
 "nbformat_minor": 2
}
